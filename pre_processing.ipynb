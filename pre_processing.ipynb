{
 "cells": [
  {
   "cell_type": "code",
   "execution_count": 1,
   "id": "6cebbb9f-c1f2-4037-8422-ee1ad58606ce",
   "metadata": {},
   "outputs": [
    {
     "name": "stderr",
     "output_type": "stream",
     "text": [
      "/home/jovyan/.local/lib/python3.11/site-packages/tqdm/auto.py:21: TqdmWarning: IProgress not found. Please update jupyter and ipywidgets. See https://ipywidgets.readthedocs.io/en/stable/user_install.html\n",
      "  from .autonotebook import tqdm as notebook_tqdm\n"
     ]
    }
   ],
   "source": [
    "from huggingface_hub import login\n",
    "login('')"
   ]
  },
  {
   "cell_type": "code",
   "execution_count": 2,
   "id": "6b8011a3-522e-4b75-b002-bad4ac947e27",
   "metadata": {},
   "outputs": [
    {
     "name": "stdout",
     "output_type": "stream",
     "text": [
      "3613791\n",
      "data_source\n",
      "common_voice_en                11\n",
      "multilingual_librispeech_de     6\n",
      "common_voice_de                 1\n",
      "Name: count, dtype: int64\n"
     ]
    }
   ],
   "source": [
    "from src.data_utils import SIFT50MDataset\n",
    "import os\n",
    "from datasets import load_dataset, Dataset\n",
    "\n",
    "sift_dataset = load_dataset(\n",
    "    'amazon-agi/SIFT-50M',\n",
    "    name='closed_ended_comparison',\n",
    "    split='train',\n",
    "    trust_remote_code=True\n",
    ")\n",
    "sift_dataset = sift_dataset.shuffle(seed=50)\n",
    "df = sift_dataset.select(range(100)).to_pandas()\n",
    "print(len(sift_dataset))\n",
    "allowed_values = [\"common_voice_de\", \"multilingual_librispeech_de\", \"common_voice_en\",'vctk_en'] # The datasets were taking too long to get donwloaded so I restricted it to certain subsets\n",
    "\n",
    "filtered_df = df[df[\"data_source\"].isin(allowed_values)]\n",
    "\n",
    "# Count number of entries per value\n",
    "counts = filtered_df[\"data_source\"].value_counts()\n",
    "print(counts)\n",
    "sift_data = Dataset.from_pandas(filtered_df)\n",
    "# Define the base datasets paths (replace with your actual paths)\n"
   ]
  },
  {
   "cell_type": "code",
   "execution_count": 53,
   "id": "171523c9-52a1-4a90-bc25-c0741e777718",
   "metadata": {},
   "outputs": [
    {
     "data": {
      "text/plain": [
       "array([{'role': 'user', 'content': array([{'text': 'Which audio clip mentions a character from a series?', 'audio_path': None},\n",
       "              {'text': None, 'audio_path': '/path/to/common_voice_en_22177961.wav'},\n",
       "              {'text': None, 'audio_path': '/path/to/common_voice_en_22462206.wav'}],\n",
       "             dtype=object)}                                                                                                    ,\n",
       "       {'role': 'assistant', 'content': array([{'text': 'Audio clip 2 mentions a character from a series.', 'audio_path': None}],\n",
       "             dtype=object)}                                                                                                      ],\n",
       "      dtype=object)"
      ]
     },
     "execution_count": 53,
     "metadata": {},
     "output_type": "execute_result"
    }
   ],
   "source": [
    "filtered_df.iloc[100].messages"
   ]
  },
  {
   "cell_type": "code",
   "execution_count": 3,
   "id": "1c9f684c-117c-493c-bee9-0a42df3c6920",
   "metadata": {},
   "outputs": [
    {
     "name": "stdout",
     "output_type": "stream",
     "text": [
      "id                 comparison_2422_2340_009836__2422_3333_007576\n",
      "messages       [{'role': 'user', 'content': [{'text': 'Wie is...\n",
      "task                                     closed_ended_comparison\n",
      "data_source                          multilingual_librispeech_de\n",
      "Name: 7, dtype: object\n"
     ]
    }
   ],
   "source": [
    "filtered_df_1 = filtered_df[filtered_df[\"data_source\"].isin(['multilingual_librispeech_de'])]\n",
    "print(filtered_df_1.iloc[1])"
   ]
  },
  {
   "cell_type": "code",
   "execution_count": 4,
   "id": "b4388da7-6b11-423a-ac69-81fd079fe62a",
   "metadata": {},
   "outputs": [],
   "source": [
    "sift_data = Dataset.from_pandas(filtered_df_1)\n"
   ]
  },
  {
   "cell_type": "code",
   "execution_count": null,
   "id": "5ed9669d-78c9-4d9e-82c8-22d970fe9c20",
   "metadata": {
    "scrolled": true
   },
   "outputs": [
    {
     "name": "stdout",
     "output_type": "stream",
     "text": [
      "multilingual_librispeech_de None\n",
      "Iterating through SIFT-50M dataset:\n",
      "multilingual_librispeech_de {'id': 'comparison_2422_2200_000717__2422_3059_000247', 'messages': [{'content': [{'audio_path': None, 'text': 'Wie ist die Sprachqualität in den beiden Aufnahmen?'}, {'audio_path': '/path/to/2422_2200_000717.wav', 'text': None}, {'audio_path': '/path/to/2422_3059_000247.wav', 'text': None}], 'role': 'user'}, {'content': [{'audio_path': None, 'text': 'Die erste Aufnahme hat eine großartige Sprachqualität, während die zweite eine mäßige Sprachqualität aufweist.'}], 'role': 'assistant'}], 'task': 'closed_ended_comparison', 'data_source': 'multilingual_librispeech_de', '__index_level_0__': 5}\n",
      "filtering for id\n"
     ]
    },
    {
     "name": "stderr",
     "output_type": "stream",
     "text": [
      "Filter:   1%|▏         | 7000/469942 [04:03<4:14:45, 30.29 examples/s]Exception ignored from cffi callback <function SoundFile._init_virtual_io.<locals>.vio_read at 0x7f89455eb100>:\n",
      "Traceback (most recent call last):\n",
      "  File \"/home/jovyan/.local/opt/conda/envs/ainmc/lib/python3.11/site-packages/soundfile.py\", line 1290, in vio_read\n",
      "    @_ffi.callback(\"sf_vio_read\")\n",
      "\n",
      "KeyboardInterrupt: \n",
      "Filter:  11%|█         | 50000/469942 [29:04<4:02:39, 28.84 examples/s]"
     ]
    }
   ],
   "source": [
    "base_datasets_root = \"/home/jovyan/.cache/huggingface/datasets\"\n",
    "base_datasets_paths = {\n",
    "   # \"common_voice_de\": None, # No longer needs a path, handled by load_dataset\n",
    "    \"multilingual_librispeech_de\": None, # No longer needs a path, handled by load_dataset\n",
    "   # \"common_voice_en\": None, # No longer needs a path, handled by load_dataset\n",
    "   # \"vctk_en\": \"./vctk_corpus\" # VCTK still needs a root path for torchaudio\n",
    "}\n",
    "\n",
    "# Create an instance of the SIFT50MDataset\n",
    "sift_iterable_dataset = SIFT50MDataset(sift_dataset=sift_data.select(range(1)), base_datasets_paths=base_datasets_paths)\n",
    "\n",
    "# Iterate through the dataset and print the audio path and some metadata\n",
    "print(\"Iterating through SIFT-50M dataset:\")\n",
    "for i, data in enumerate(sift_iterable_dataset):\n",
    "    if i >= 5:  # Print first 5 examples for demonstration\n",
    "        break\n",
    "    print(f\"Example {i+1}:\")\n",
    "    print(f\"  Audio Path: {data['audio_path']}\")\n",
    "    print(f\"  Data Source: {data['metadata']['data_source']}\")\n",
    "    print(f\"  SIFT ID: {data['metadata']['id']}\")\n",
    "    print(f\"  full message: {data}\")\n",
    "    print(\"\\n\")\n",
    "\n",
    "print(\"Demonstration complete.\")"
   ]
  },
  {
   "cell_type": "code",
   "execution_count": null,
   "id": "60297a62-5807-4673-897f-f759e8a09ae2",
   "metadata": {},
   "outputs": [],
   "source": [
    "?os.path.splitext"
   ]
  },
  {
   "cell_type": "code",
   "execution_count": null,
   "id": "27c7459a-805f-4caf-b72e-c55df69df6db",
   "metadata": {},
   "outputs": [],
   "source": []
  }
 ],
 "metadata": {
  "kernelspec": {
   "display_name": "Python [conda env:conda-ainmc]",
   "language": "python",
   "name": "conda-env-conda-ainmc-py"
  },
  "language_info": {
   "codemirror_mode": {
    "name": "ipython",
    "version": 3
   },
   "file_extension": ".py",
   "mimetype": "text/x-python",
   "name": "python",
   "nbconvert_exporter": "python",
   "pygments_lexer": "ipython3",
   "version": "3.11.13"
  }
 },
 "nbformat": 4,
 "nbformat_minor": 5
}
