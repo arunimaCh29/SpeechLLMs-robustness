{
 "cells": [
  {
   "cell_type": "code",
   "execution_count": 1,
   "id": "384ea030-cce0-4086-88fb-d2da8bba0983",
   "metadata": {},
   "outputs": [
    {
     "name": "stderr",
     "output_type": "stream",
     "text": [
      "/home/jovyan/.local/lib/python3.11/site-packages/tqdm/auto.py:21: TqdmWarning: IProgress not found. Please update jupyter and ipywidgets. See https://ipywidgets.readthedocs.io/en/stable/user_install.html\n",
      "  from .autonotebook import tqdm as notebook_tqdm\n"
     ]
    }
   ],
   "source": [
    "from huggingface_hub import login\n",
    "login('')"
   ]
  },
  {
   "cell_type": "code",
   "execution_count": 4,
   "id": "9866c44f-8397-44d6-b0b6-f47c36479fdb",
   "metadata": {
    "scrolled": true
   },
   "outputs": [
    {
     "name": "stdout",
     "output_type": "stream",
     "text": [
      "Requirement already satisfied: datasets==3.6.0 in /home/jovyan/.local/opt/conda/envs/ainmc/lib/python3.11/site-packages (3.6.0)\n",
      "Requirement already satisfied: filelock in /home/jovyan/.local/lib/python3.11/site-packages (from datasets==3.6.0) (3.19.1)\n",
      "Requirement already satisfied: numpy>=1.17 in /home/jovyan/.local/opt/conda/envs/ainmc/lib/python3.11/site-packages (from datasets==3.6.0) (2.2.6)\n",
      "Requirement already satisfied: pyarrow>=15.0.0 in /home/jovyan/.local/lib/python3.11/site-packages (from datasets==3.6.0) (21.0.0)\n",
      "Requirement already satisfied: dill<0.3.9,>=0.3.0 in /home/jovyan/.local/lib/python3.11/site-packages (from datasets==3.6.0) (0.3.8)\n",
      "Requirement already satisfied: pandas in /home/jovyan/.local/lib/python3.11/site-packages (from datasets==3.6.0) (2.3.2)\n",
      "Requirement already satisfied: requests>=2.32.2 in /home/jovyan/.local/lib/python3.11/site-packages (from datasets==3.6.0) (2.32.5)\n",
      "Requirement already satisfied: tqdm>=4.66.3 in /home/jovyan/.local/lib/python3.11/site-packages (from datasets==3.6.0) (4.67.1)\n",
      "Requirement already satisfied: xxhash in /home/jovyan/.local/lib/python3.11/site-packages (from datasets==3.6.0) (3.5.0)\n",
      "Requirement already satisfied: multiprocess<0.70.17 in /home/jovyan/.local/lib/python3.11/site-packages (from datasets==3.6.0) (0.70.16)\n",
      "Requirement already satisfied: fsspec<=2025.3.0,>=2023.1.0 in /home/jovyan/.local/lib/python3.11/site-packages (from fsspec[http]<=2025.3.0,>=2023.1.0->datasets==3.6.0) (2025.3.0)\n",
      "Requirement already satisfied: huggingface-hub>=0.24.0 in /home/jovyan/.local/lib/python3.11/site-packages (from datasets==3.6.0) (0.34.4)\n",
      "Requirement already satisfied: packaging in /home/jovyan/.local/opt/conda/envs/ainmc/lib/python3.11/site-packages (from datasets==3.6.0) (25.0)\n",
      "Requirement already satisfied: pyyaml>=5.1 in /home/jovyan/.local/lib/python3.11/site-packages (from datasets==3.6.0) (6.0.2)\n",
      "Requirement already satisfied: aiohttp!=4.0.0a0,!=4.0.0a1 in /home/jovyan/.local/lib/python3.11/site-packages (from fsspec[http]<=2025.3.0,>=2023.1.0->datasets==3.6.0) (3.12.15)\n",
      "Requirement already satisfied: aiohappyeyeballs>=2.5.0 in /home/jovyan/.local/lib/python3.11/site-packages (from aiohttp!=4.0.0a0,!=4.0.0a1->fsspec[http]<=2025.3.0,>=2023.1.0->datasets==3.6.0) (2.6.1)\n",
      "Requirement already satisfied: aiosignal>=1.4.0 in /home/jovyan/.local/lib/python3.11/site-packages (from aiohttp!=4.0.0a0,!=4.0.0a1->fsspec[http]<=2025.3.0,>=2023.1.0->datasets==3.6.0) (1.4.0)\n",
      "Requirement already satisfied: attrs>=17.3.0 in /home/jovyan/.local/lib/python3.11/site-packages (from aiohttp!=4.0.0a0,!=4.0.0a1->fsspec[http]<=2025.3.0,>=2023.1.0->datasets==3.6.0) (25.3.0)\n",
      "Requirement already satisfied: frozenlist>=1.1.1 in /home/jovyan/.local/lib/python3.11/site-packages (from aiohttp!=4.0.0a0,!=4.0.0a1->fsspec[http]<=2025.3.0,>=2023.1.0->datasets==3.6.0) (1.7.0)\n",
      "Requirement already satisfied: multidict<7.0,>=4.5 in /home/jovyan/.local/lib/python3.11/site-packages (from aiohttp!=4.0.0a0,!=4.0.0a1->fsspec[http]<=2025.3.0,>=2023.1.0->datasets==3.6.0) (6.6.4)\n",
      "Requirement already satisfied: propcache>=0.2.0 in /home/jovyan/.local/lib/python3.11/site-packages (from aiohttp!=4.0.0a0,!=4.0.0a1->fsspec[http]<=2025.3.0,>=2023.1.0->datasets==3.6.0) (0.3.2)\n",
      "Requirement already satisfied: yarl<2.0,>=1.17.0 in /home/jovyan/.local/lib/python3.11/site-packages (from aiohttp!=4.0.0a0,!=4.0.0a1->fsspec[http]<=2025.3.0,>=2023.1.0->datasets==3.6.0) (1.20.1)\n",
      "Requirement already satisfied: idna>=2.0 in /home/jovyan/.local/lib/python3.11/site-packages (from yarl<2.0,>=1.17.0->aiohttp!=4.0.0a0,!=4.0.0a1->fsspec[http]<=2025.3.0,>=2023.1.0->datasets==3.6.0) (3.10)\n",
      "Requirement already satisfied: typing-extensions>=4.2 in /home/jovyan/.local/opt/conda/envs/ainmc/lib/python3.11/site-packages (from aiosignal>=1.4.0->aiohttp!=4.0.0a0,!=4.0.0a1->fsspec[http]<=2025.3.0,>=2023.1.0->datasets==3.6.0) (4.15.0)\n",
      "Requirement already satisfied: hf-xet<2.0.0,>=1.1.3 in /home/jovyan/.local/lib/python3.11/site-packages (from huggingface-hub>=0.24.0->datasets==3.6.0) (1.1.9)\n",
      "Requirement already satisfied: charset_normalizer<4,>=2 in /home/jovyan/.local/lib/python3.11/site-packages (from requests>=2.32.2->datasets==3.6.0) (3.4.3)\n",
      "Requirement already satisfied: urllib3<3,>=1.21.1 in /home/jovyan/.local/lib/python3.11/site-packages (from requests>=2.32.2->datasets==3.6.0) (2.5.0)\n",
      "Requirement already satisfied: certifi>=2017.4.17 in /home/jovyan/.local/lib/python3.11/site-packages (from requests>=2.32.2->datasets==3.6.0) (2025.8.3)\n",
      "Requirement already satisfied: python-dateutil>=2.8.2 in /home/jovyan/.local/opt/conda/envs/ainmc/lib/python3.11/site-packages (from pandas->datasets==3.6.0) (2.9.0.post0)\n",
      "Requirement already satisfied: pytz>=2020.1 in /home/jovyan/.local/lib/python3.11/site-packages (from pandas->datasets==3.6.0) (2025.2)\n",
      "Requirement already satisfied: tzdata>=2022.7 in /home/jovyan/.local/lib/python3.11/site-packages (from pandas->datasets==3.6.0) (2025.2)\n",
      "Requirement already satisfied: six>=1.5 in /home/jovyan/.local/opt/conda/envs/ainmc/lib/python3.11/site-packages (from python-dateutil>=2.8.2->pandas->datasets==3.6.0) (1.17.0)\n"
     ]
    }
   ],
   "source": [
    "!pip install datasets==3.6.0"
   ]
  },
  {
   "cell_type": "code",
   "execution_count": 2,
   "id": "b3d417bb-9979-4054-8e50-90552c773de4",
   "metadata": {},
   "outputs": [
    {
     "name": "stdout",
     "output_type": "stream",
     "text": [
      "['closed_ended_acoustic_level', 'closed_ended_content_level', 'closed_ended_word_align', 'closed_ended_comparison', 'open_ended', 'controllable_generation']\n"
     ]
    }
   ],
   "source": [
    "from datasets import get_dataset_config_names\n",
    "\n",
    "print(get_dataset_config_names(\"amazon-agi/SIFT-50M\"))\n"
   ]
  },
  {
   "cell_type": "code",
   "execution_count": 7,
   "id": "04b043f2-ed81-412e-af84-70ca918f10f5",
   "metadata": {
    "scrolled": true
   },
   "outputs": [
    {
     "name": "stderr",
     "output_type": "stream",
     "text": [
      "Downloading data: 100%|██████████| 364/364 [00:00<00:00, 577.20files/s]\n",
      "Generating train split: 3613791 examples [00:09, 379054.41 examples/s]\n",
      "Generating validation split: 99997 examples [00:00, 330039.23 examples/s]\n",
      "Generating EvalSIFT split: 2500 examples [00:00, 102885.29 examples/s]\n"
     ]
    }
   ],
   "source": [
    "from datasets import load_dataset\n",
    "\n",
    "sift = load_dataset(\n",
    "            'amazon-agi/SIFT-50M',\n",
    "            name='closed_ended_comparison',        \n",
    "            split='train',         \n",
    "            trust_remote_code=True\n",
    "        )"
   ]
  },
  {
   "cell_type": "code",
   "execution_count": 9,
   "id": "270cc557-bdc2-4ffc-938c-46563bcc6a69",
   "metadata": {},
   "outputs": [],
   "source": [
    "df = sift.to_pandas()"
   ]
  },
  {
   "cell_type": "code",
   "execution_count": 15,
   "id": "105304f7-fcbb-443b-90c7-0ad22a69fb0f",
   "metadata": {},
   "outputs": [
    {
     "data": {
      "text/plain": [
       "array(['common_voice_de', 'multilingual_librispeech_de',\n",
       "       'multilingual_librispeech_en', 'common_voice_en', 'vctk_en',\n",
       "       'multilingual_librispeech_es', 'common_voice_es',\n",
       "       'common_voice_fr', 'multilingual_librispeech_fr',\n",
       "       'common_voice_it', 'multilingual_librispeech_it'], dtype=object)"
      ]
     },
     "execution_count": 15,
     "metadata": {},
     "output_type": "execute_result"
    }
   ],
   "source": [
    "df['data_source'].unique()"
   ]
  },
  {
   "cell_type": "code",
   "execution_count": 22,
   "id": "5a840570-fb10-44d8-aff5-9bb62ad33b20",
   "metadata": {},
   "outputs": [
    {
     "name": "stdout",
     "output_type": "stream",
     "text": [
      "data_source\n",
      "common_voice_en                496663\n",
      "multilingual_librispeech_de    229428\n",
      "common_voice_de                219303\n",
      "vctk_en                         21299\n",
      "Name: count, dtype: int64\n"
     ]
    }
   ],
   "source": [
    "allowed_values = [\"common_voice_de\", \"multilingual_librispeech_de\", \"common_voice_en\",'vctk_en'] # The datasets were taking too long to get donwloaded so I restricted it to certain subsets\n",
    "\n",
    "filtered_df = df[df[\"data_source\"].isin(allowed_values)]\n",
    "\n",
    "# Count number of entries per value\n",
    "counts = filtered_df[\"data_source\"].value_counts()\n",
    "print(counts)"
   ]
  },
  {
   "cell_type": "code",
   "execution_count": 23,
   "id": "e301d0df-59a9-4e8a-845a-30088fe11b6a",
   "metadata": {},
   "outputs": [],
   "source": [
    "from datasets import load_dataset\n",
    "\n",
    "ds = load_dataset(\"facebook/multilingual_librispeech\", \"german\", split='train')"
   ]
  },
  {
   "cell_type": "code",
   "execution_count": 25,
   "id": "fcf57361-e43c-46bc-8add-e31f38795ee4",
   "metadata": {},
   "outputs": [],
   "source": [
    "df_ds = ds.select(range(10)).to_pandas()"
   ]
  },
  {
   "cell_type": "code",
   "execution_count": 26,
   "id": "a76f9f4e-d439-45e4-b0d0-36bdffe0c917",
   "metadata": {},
   "outputs": [
    {
     "data": {
      "text/plain": [
       "Index(['audio', 'original_path', 'begin_time', 'end_time', 'transcript',\n",
       "       'audio_duration', 'speaker_id', 'chapter_id', 'file', 'id'],\n",
       "      dtype='object')"
      ]
     },
     "execution_count": 26,
     "metadata": {},
     "output_type": "execute_result"
    }
   ],
   "source": [
    "df_ds.columns"
   ]
  },
  {
   "cell_type": "code",
   "execution_count": 31,
   "id": "467ef0bc-7ab8-416e-bcdd-3568bace9b10",
   "metadata": {},
   "outputs": [
    {
     "data": {
      "text/plain": [
       "{'audio': {'path': '10148_10119_000000.opus',\n",
       "  'array': array([ 5.75896374e-05, -3.18501479e-05, -8.68244606e-05, ...,\n",
       "         -6.97935029e-05, -2.04320477e-05, -2.06352095e-04], shape=(275040,)),\n",
       "  'sampling_rate': 16000},\n",
       " 'original_path': 'http://www.archive.org/download/reise_um_die_erde_in_80_tagen_1510_librivox/in80tagen_35_verne_64kb.mp3',\n",
       " 'begin_time': 297.85,\n",
       " 'end_time': 315.04,\n",
       " 'transcript': 'mein freund sie dürfen ihn nicht einen augenblick verlassen sie sagten er habe die absicht zu erkennen gegeben mich diesen abend zu sprechen ja madame es handelt sich ohne zweifel darum ihre lage in england zu sichern',\n",
       " 'audio_duration': 17.189999999999998,\n",
       " 'speaker_id': '10148',\n",
       " 'chapter_id': '10119',\n",
       " 'file': '10148_10119_000000.opus',\n",
       " 'id': '10148_10119_000000'}"
      ]
     },
     "execution_count": 31,
     "metadata": {},
     "output_type": "execute_result"
    }
   ],
   "source": [
    "ds[0]['audio']"
   ]
  },
  {
   "cell_type": "code",
   "execution_count": 28,
   "id": "4df3af4b-67a8-4271-bf16-b799195f0af0",
   "metadata": {},
   "outputs": [
    {
     "data": {
      "text/html": [
       "<div>\n",
       "<style scoped>\n",
       "    .dataframe tbody tr th:only-of-type {\n",
       "        vertical-align: middle;\n",
       "    }\n",
       "\n",
       "    .dataframe tbody tr th {\n",
       "        vertical-align: top;\n",
       "    }\n",
       "\n",
       "    .dataframe thead th {\n",
       "        text-align: right;\n",
       "    }\n",
       "</style>\n",
       "<table border=\"1\" class=\"dataframe\">\n",
       "  <thead>\n",
       "    <tr style=\"text-align: right;\">\n",
       "      <th></th>\n",
       "      <th>audio</th>\n",
       "      <th>original_path</th>\n",
       "      <th>begin_time</th>\n",
       "      <th>end_time</th>\n",
       "      <th>transcript</th>\n",
       "      <th>audio_duration</th>\n",
       "      <th>speaker_id</th>\n",
       "      <th>chapter_id</th>\n",
       "      <th>file</th>\n",
       "      <th>id</th>\n",
       "    </tr>\n",
       "  </thead>\n",
       "  <tbody>\n",
       "    <tr>\n",
       "      <th>0</th>\n",
       "      <td>{'bytes': b'OggS\\x00\\x02\\x00\\x00\\x00\\x00\\x00\\x...</td>\n",
       "      <td>http://www.archive.org/download/reise_um_die_e...</td>\n",
       "      <td>297.85</td>\n",
       "      <td>315.04</td>\n",
       "      <td>mein freund sie dürfen ihn nicht einen augenbl...</td>\n",
       "      <td>17.19</td>\n",
       "      <td>10148</td>\n",
       "      <td>10119</td>\n",
       "      <td>10148_10119_000000.opus</td>\n",
       "      <td>10148_10119_000000</td>\n",
       "    </tr>\n",
       "    <tr>\n",
       "      <th>1</th>\n",
       "      <td>{'bytes': b'OggS\\x00\\x02\\x00\\x00\\x00\\x00\\x00\\x...</td>\n",
       "      <td>http://www.archive.org/download/reise_um_die_e...</td>\n",
       "      <td>374.83</td>\n",
       "      <td>392.45</td>\n",
       "      <td>wie heißt dieser dampfer fragte herr fogg carn...</td>\n",
       "      <td>17.62</td>\n",
       "      <td>10148</td>\n",
       "      <td>10119</td>\n",
       "      <td>10148_10119_000001.opus</td>\n",
       "      <td>10148_10119_000001</td>\n",
       "    </tr>\n",
       "  </tbody>\n",
       "</table>\n",
       "</div>"
      ],
      "text/plain": [
       "                                               audio  \\\n",
       "0  {'bytes': b'OggS\\x00\\x02\\x00\\x00\\x00\\x00\\x00\\x...   \n",
       "1  {'bytes': b'OggS\\x00\\x02\\x00\\x00\\x00\\x00\\x00\\x...   \n",
       "\n",
       "                                       original_path  begin_time  end_time  \\\n",
       "0  http://www.archive.org/download/reise_um_die_e...      297.85    315.04   \n",
       "1  http://www.archive.org/download/reise_um_die_e...      374.83    392.45   \n",
       "\n",
       "                                          transcript  audio_duration  \\\n",
       "0  mein freund sie dürfen ihn nicht einen augenbl...           17.19   \n",
       "1  wie heißt dieser dampfer fragte herr fogg carn...           17.62   \n",
       "\n",
       "  speaker_id chapter_id                     file                  id  \n",
       "0      10148      10119  10148_10119_000000.opus  10148_10119_000000  \n",
       "1      10148      10119  10148_10119_000001.opus  10148_10119_000001  "
      ]
     },
     "execution_count": 28,
     "metadata": {},
     "output_type": "execute_result"
    }
   ],
   "source": [
    "df_ds.head(2)"
   ]
  },
  {
   "cell_type": "code",
   "execution_count": 6,
   "id": "befae0e1-61c2-4e98-89fc-8e9fb43dd38f",
   "metadata": {
    "scrolled": true
   },
   "outputs": [
    {
     "name": "stdout",
     "output_type": "stream",
     "text": [
      "/home/jovyan/.cache/huggingface/datasets\n"
     ]
    }
   ],
   "source": [
    "from datasets import config\n",
    "\n",
    "print(config.HF_DATASETS_CACHE)"
   ]
  },
  {
   "cell_type": "code",
   "execution_count": 34,
   "id": "da5caf5f-627c-4e12-bf0d-98af9a3db0d8",
   "metadata": {
    "scrolled": true
   },
   "outputs": [],
   "source": [
    "cv_15_en = load_dataset(\"mozilla-foundation/common_voice_15_0\", \"en\", split=\"train\")"
   ]
  },
  {
   "cell_type": "code",
   "execution_count": 44,
   "id": "6f2de861-53ce-4f1b-a22a-503a98edb785",
   "metadata": {},
   "outputs": [
    {
     "data": {
      "text/plain": [
       "Index(['client_id', 'path', 'audio', 'sentence', 'up_votes', 'down_votes',\n",
       "       'age', 'gender', 'accent', 'locale', 'segment', 'variant'],\n",
       "      dtype='object')"
      ]
     },
     "execution_count": 44,
     "metadata": {},
     "output_type": "execute_result"
    }
   ],
   "source": [
    "cv_en =cv_15_en.select(range(10)).to_pandas()\n",
    "cv_en.columns"
   ]
  },
  {
   "cell_type": "code",
   "execution_count": 45,
   "id": "206bed77-d98a-48cc-a886-c20f4131cab4",
   "metadata": {},
   "outputs": [
    {
     "data": {
      "text/plain": [
       "{'client_id': '01bafad40530eb6e4e40f7c0ab50da0effcd737da67d426dd623cd06ba0de669a37916ff29ddb161cdce4a7f3c761ec981b1aa6acb092faeb5ca687c6b8467a5',\n",
       " 'path': '/home/jovyan/.cache/huggingface/datasets/downloads/extracted/b343a3c7439e2a2dbd8d3b280d5bd30c49174dcdb1139808eca837b9e8d0f2d1/en_train_0/common_voice_en_19734332.mp3',\n",
       " 'audio': {'path': '/home/jovyan/.cache/huggingface/datasets/downloads/extracted/b343a3c7439e2a2dbd8d3b280d5bd30c49174dcdb1139808eca837b9e8d0f2d1/en_train_0/common_voice_en_19734332.mp3',\n",
       "  'array': array([ 0.00000000e+00,  5.64705834e-13,  8.12875917e-13, ...,\n",
       "         -3.18945313e-05, -2.40571171e-05, -7.22968707e-06], shape=(209664,)),\n",
       "  'sampling_rate': 48000},\n",
       " 'sentence': 'A street and a square are named after him.',\n",
       " 'up_votes': 2,\n",
       " 'down_votes': 0,\n",
       " 'age': '',\n",
       " 'gender': '',\n",
       " 'accent': '',\n",
       " 'locale': 'en',\n",
       " 'segment': '',\n",
       " 'variant': ''}"
      ]
     },
     "execution_count": 45,
     "metadata": {},
     "output_type": "execute_result"
    }
   ],
   "source": [
    "cv_15_en[0]"
   ]
  },
  {
   "cell_type": "code",
   "execution_count": 7,
   "id": "a718a57e-e8b8-49ce-9481-de303c5f89d1",
   "metadata": {
    "scrolled": true
   },
   "outputs": [
    {
     "name": "stderr",
     "output_type": "stream",
     "text": [
      "Generating train split: 0 examples [00:00, ? examples/s]\n",
      "Reading metadata...: 0it [00:00, ?it/s]\u001b[A\n",
      "Reading metadata...: 29685it [00:00, 296828.34it/s]\u001b[A\n",
      "Reading metadata...: 59664it [00:00, 298563.91it/s]\u001b[A\n",
      "Reading metadata...: 89521it [00:00, 279274.93it/s]\u001b[A\n",
      "Reading metadata...: 117778it [00:00, 280512.00it/s]\u001b[A\n",
      "Reading metadata...: 145918it [00:00, 270640.22it/s]\u001b[A\n",
      "Reading metadata...: 173076it [00:00, 269612.03it/s]\u001b[A\n",
      "Reading metadata...: 200096it [00:00, 263885.10it/s]\u001b[A\n",
      "Reading metadata...: 226583it [00:00, 264178.95it/s]\u001b[A\n",
      "Reading metadata...: 253035it [00:00, 263505.07it/s]\u001b[A\n",
      "Reading metadata...: 279408it [00:01, 256799.75it/s]\u001b[A\n",
      "Reading metadata...: 305198it [00:01, 257122.09it/s]\u001b[A\n",
      "Reading metadata...: 331616it [00:01, 259218.24it/s]\u001b[A\n",
      "Reading metadata...: 357563it [00:01, 220333.88it/s]\u001b[A\n",
      "Reading metadata...: 384059it [00:01, 232193.07it/s]\u001b[A\n",
      "Reading metadata...: 410714it [00:01, 241644.70it/s]\u001b[A\n",
      "Reading metadata...: 438465it [00:01, 251762.77it/s]\u001b[A\n",
      "Reading metadata...: 464188it [00:01, 252841.75it/s]\u001b[A\n",
      "Reading metadata...: 489859it [00:01, 252941.08it/s]\u001b[A\n",
      "Reading metadata...: 515424it [00:02, 252883.65it/s]\u001b[A\n",
      "Reading metadata...: 540902it [00:02, 248552.99it/s]\u001b[A\n",
      "Reading metadata...: 567993it [00:02, 253419.79it/s]\u001b[A\n",
      "Generating train split: 567993 examples [03:30, 2694.55 examples/s]\n",
      "Generating validation split: 0 examples [00:00, ? examples/s]\n",
      "Reading metadata...: 16167it [00:00, 202640.88it/s]\n",
      "Generating validation split: 16167 examples [00:05, 2817.77 examples/s]\n",
      "Generating test split: 0 examples [00:00, ? examples/s]\n",
      "Reading metadata...: 16167it [00:00, 305991.80it/s]\n",
      "Generating test split: 16167 examples [00:05, 2856.80 examples/s]\n",
      "Generating other split: 0 examples [00:00, ? examples/s]\n",
      "Reading metadata...: 6652it [00:00, 274395.26it/s]\n",
      "Generating other split: 6652 examples [00:02, 2866.19 examples/s]\n",
      "Generating invalidated split: 0 examples [00:00, ? examples/s]\n",
      "Reading metadata...: 0it [00:00, ?it/s]\u001b[A\n",
      "Reading metadata...: 53034it [00:00, 297111.73it/s]\u001b[A\n",
      "Generating invalidated split: 53034 examples [00:18, 2870.13 examples/s]\n"
     ]
    }
   ],
   "source": [
    "cv_15_ger = load_dataset(\"mozilla-foundation/common_voice_15_0\", \"de\", split=\"train\",trust_remote_code=True)"
   ]
  },
  {
   "cell_type": "code",
   "execution_count": 2,
   "id": "d1c24790-98fd-44d5-936f-5d0e394d5c7d",
   "metadata": {},
   "outputs": [
    {
     "name": "stdout",
     "output_type": "stream",
     "text": [
      "VCTK Corpus downloaded to: ./vctk_corpus\n",
      "Number of samples in the dataset: 43873\n"
     ]
    }
   ],
   "source": [
    "import torchaudio\n",
    "import os\n",
    "# Define the absolute path directly\n",
    "data_dir = \"./vctk_corpus\"\n",
    "os.makedirs(data_dir, exist_ok=True)\n",
    "\n",
    "# Load the dataset.\n",
    "vctk_dataset = torchaudio.datasets.VCTK_092(\n",
    "    root=data_dir,\n",
    "    download=True\n",
    ")\n",
    "\n",
    "print(f\"VCTK Corpus downloaded to: {data_dir}\")\n",
    "print(f\"Number of samples in the dataset: {len(vctk_dataset)}\")"
   ]
  },
  {
   "cell_type": "code",
   "execution_count": 8,
   "id": "b38e4e62-f7db-45ac-b9a1-58470b656306",
   "metadata": {},
   "outputs": [
    {
     "data": {
      "text/plain": [
       "(tensor([[ 0.0025,  0.0037,  0.0032,  ..., -0.0004, -0.0002, -0.0004]]),\n",
       " 48000,\n",
       " 'So if we can take anything from tonight, it will be fantastic.\\n',\n",
       " 'p228',\n",
       " '026')"
      ]
     },
     "execution_count": 8,
     "metadata": {},
     "output_type": "execute_result"
    }
   ],
   "source": [
    "vctk_dataset[1000]"
   ]
  },
  {
   "cell_type": "code",
   "execution_count": null,
   "id": "aba35bb0-8895-47e7-b924-1bd2281f235c",
   "metadata": {},
   "outputs": [
    {
     "name": "stderr",
     "output_type": "stream",
     "text": [
      "Loading Dataset Infos from /home/jovyan/.cache/huggingface/modules/datasets_modules/datasets/mozilla-foundation--common_voice_15_0/74e497a1be7b690fe79155a67473c3b207cec144dc2a92d0a7bdd19172d3a4d9\n",
      "Overwrite dataset info from restored data version if exists.\n",
      "Loading Dataset info from /home/jovyan/.cache/huggingface/datasets/mozilla-foundation___common_voice_15_0/de/15.0.0/74e497a1be7b690fe79155a67473c3b207cec144dc2a92d0a7bdd19172d3a4d9\n",
      "Found cached dataset common_voice_15_0 (/home/jovyan/.cache/huggingface/datasets/mozilla-foundation___common_voice_15_0/de/15.0.0/74e497a1be7b690fe79155a67473c3b207cec144dc2a92d0a7bdd19172d3a4d9)\n",
      "Loading Dataset info from /home/jovyan/.cache/huggingface/datasets/mozilla-foundation___common_voice_15_0/de/15.0.0/74e497a1be7b690fe79155a67473c3b207cec144dc2a92d0a7bdd19172d3a4d9\n"
     ]
    },
    {
     "name": "stdout",
     "output_type": "stream",
     "text": [
      "mapping csv\n"
     ]
    },
    {
     "name": "stderr",
     "output_type": "stream",
     "text": [
      "  1%|          | 3506/567993 [00:16<45:15, 207.88it/s]Exception ignored from cffi callback <function SoundFile._init_virtual_io.<locals>.vio_read at 0x7fb3ae237100>:\n",
      "Traceback (most recent call last):\n",
      "  File \"/home/jovyan/.local/opt/conda/envs/ainmc/lib/python3.11/site-packages/soundfile.py\", line 1290, in vio_read\n",
      "    @_ffi.callback(\"sf_vio_read\")\n",
      "\n",
      "KeyboardInterrupt: \n",
      "  1%|          | 3995/567993 [00:18<41:41, 225.47it/s]Exception ignored from cffi callback <function SoundFile._init_virtual_io.<locals>.vio_read at 0x7fb43fd0dda0>:\n",
      "Traceback (most recent call last):\n",
      "  File \"/home/jovyan/.local/opt/conda/envs/ainmc/lib/python3.11/site-packages/soundfile.py\", line 1290, in vio_read\n",
      "    @_ffi.callback(\"sf_vio_read\")\n",
      "\n",
      "KeyboardInterrupt: \n",
      "  1%|          | 4713/567993 [00:21<44:37, 210.41it/s]"
     ]
    }
   ],
   "source": [
    "from datasets import load_dataset, Audio\n",
    "from tqdm import tqdm\n",
    "import os\n",
    "import pandas as pd\n",
    "def build_common_voice_csv_mapping(lang, csv_path):\n",
    "    # Load the Common Voice dataset\n",
    "    dataset = load_dataset(\"mozilla-foundation/common_voice_15_0\", 'de', split=\"train\", trust_remote_code=True)\n",
    "    print('mapping csv')\n",
    "    #dataset = dataset.cast_column(\"audio\", Audio(decode=False))\n",
    "    # Create a list of dictionaries for the CSV\n",
    "    mapping_data = []\n",
    "    for entry in tqdm(dataset):\n",
    "        filename_without_ext = os.path.splitext(os.path.basename(entry['path']))[0]\n",
    "        mapping_data.append({\n",
    "            'id': filename_without_ext,\n",
    "            'audio_path': entry['audio']['path']\n",
    "        })\n",
    "    \n",
    "    # Create DataFrame and save to CSV\n",
    "    df = pd.DataFrame(mapping_data)\n",
    "    df.to_csv(csv_path, index=False)\n",
    "    print(f\"Common Voice {lang} mapping saved to {csv_path}\")\n",
    "\n",
    "\n",
    "build_common_voice_csv_mapping('de','./data/common_voice_de_mapping.csv')"
   ]
  },
  {
   "cell_type": "code",
   "execution_count": 3,
   "id": "384e4b26-6b07-4ca9-92ef-2a25deb1d51d",
   "metadata": {
    "scrolled": true
   },
   "outputs": [
    {
     "name": "stderr",
     "output_type": "stream",
     "text": [
      "Overwrite dataset info from restored data version if exists.\n",
      "Loading Dataset info from /home/jovyan/.cache/huggingface/datasets/facebook___multilingual_librispeech/german/0.0.0/2e83e61823b4c47dcbcb1980bb88601274127609\n",
      "Found cached dataset multilingual_librispeech (/home/jovyan/.cache/huggingface/datasets/facebook___multilingual_librispeech/german/0.0.0/2e83e61823b4c47dcbcb1980bb88601274127609)\n",
      "Loading Dataset info from /home/jovyan/.cache/huggingface/datasets/facebook___multilingual_librispeech/german/0.0.0/2e83e61823b4c47dcbcb1980bb88601274127609\n",
      "Process #0 will write at /home/jovyan/.cache/huggingface/datasets/facebook___multilingual_librispeech/german/0.0.0/2e83e61823b4c47dcbcb1980bb88601274127609/cache-e02686b43a34929f_00000_of_00048.arrow\n",
      "Process #1 will write at /home/jovyan/.cache/huggingface/datasets/facebook___multilingual_librispeech/german/0.0.0/2e83e61823b4c47dcbcb1980bb88601274127609/cache-e02686b43a34929f_00001_of_00048.arrow\n",
      "Process #2 will write at /home/jovyan/.cache/huggingface/datasets/facebook___multilingual_librispeech/german/0.0.0/2e83e61823b4c47dcbcb1980bb88601274127609/cache-e02686b43a34929f_00002_of_00048.arrow\n",
      "Process #3 will write at /home/jovyan/.cache/huggingface/datasets/facebook___multilingual_librispeech/german/0.0.0/2e83e61823b4c47dcbcb1980bb88601274127609/cache-e02686b43a34929f_00003_of_00048.arrow\n",
      "Process #4 will write at /home/jovyan/.cache/huggingface/datasets/facebook___multilingual_librispeech/german/0.0.0/2e83e61823b4c47dcbcb1980bb88601274127609/cache-e02686b43a34929f_00004_of_00048.arrow\n",
      "Process #5 will write at /home/jovyan/.cache/huggingface/datasets/facebook___multilingual_librispeech/german/0.0.0/2e83e61823b4c47dcbcb1980bb88601274127609/cache-e02686b43a34929f_00005_of_00048.arrow\n",
      "Process #6 will write at /home/jovyan/.cache/huggingface/datasets/facebook___multilingual_librispeech/german/0.0.0/2e83e61823b4c47dcbcb1980bb88601274127609/cache-e02686b43a34929f_00006_of_00048.arrow\n",
      "Process #7 will write at /home/jovyan/.cache/huggingface/datasets/facebook___multilingual_librispeech/german/0.0.0/2e83e61823b4c47dcbcb1980bb88601274127609/cache-e02686b43a34929f_00007_of_00048.arrow\n",
      "Process #8 will write at /home/jovyan/.cache/huggingface/datasets/facebook___multilingual_librispeech/german/0.0.0/2e83e61823b4c47dcbcb1980bb88601274127609/cache-e02686b43a34929f_00008_of_00048.arrow\n",
      "Process #9 will write at /home/jovyan/.cache/huggingface/datasets/facebook___multilingual_librispeech/german/0.0.0/2e83e61823b4c47dcbcb1980bb88601274127609/cache-e02686b43a34929f_00009_of_00048.arrow\n",
      "Process #10 will write at /home/jovyan/.cache/huggingface/datasets/facebook___multilingual_librispeech/german/0.0.0/2e83e61823b4c47dcbcb1980bb88601274127609/cache-e02686b43a34929f_00010_of_00048.arrow\n",
      "Process #11 will write at /home/jovyan/.cache/huggingface/datasets/facebook___multilingual_librispeech/german/0.0.0/2e83e61823b4c47dcbcb1980bb88601274127609/cache-e02686b43a34929f_00011_of_00048.arrow\n",
      "Process #12 will write at /home/jovyan/.cache/huggingface/datasets/facebook___multilingual_librispeech/german/0.0.0/2e83e61823b4c47dcbcb1980bb88601274127609/cache-e02686b43a34929f_00012_of_00048.arrow\n",
      "Process #13 will write at /home/jovyan/.cache/huggingface/datasets/facebook___multilingual_librispeech/german/0.0.0/2e83e61823b4c47dcbcb1980bb88601274127609/cache-e02686b43a34929f_00013_of_00048.arrow\n",
      "Process #14 will write at /home/jovyan/.cache/huggingface/datasets/facebook___multilingual_librispeech/german/0.0.0/2e83e61823b4c47dcbcb1980bb88601274127609/cache-e02686b43a34929f_00014_of_00048.arrow\n",
      "Process #15 will write at /home/jovyan/.cache/huggingface/datasets/facebook___multilingual_librispeech/german/0.0.0/2e83e61823b4c47dcbcb1980bb88601274127609/cache-e02686b43a34929f_00015_of_00048.arrow\n",
      "Process #16 will write at /home/jovyan/.cache/huggingface/datasets/facebook___multilingual_librispeech/german/0.0.0/2e83e61823b4c47dcbcb1980bb88601274127609/cache-e02686b43a34929f_00016_of_00048.arrow\n",
      "Process #17 will write at /home/jovyan/.cache/huggingface/datasets/facebook___multilingual_librispeech/german/0.0.0/2e83e61823b4c47dcbcb1980bb88601274127609/cache-e02686b43a34929f_00017_of_00048.arrow\n",
      "Process #18 will write at /home/jovyan/.cache/huggingface/datasets/facebook___multilingual_librispeech/german/0.0.0/2e83e61823b4c47dcbcb1980bb88601274127609/cache-e02686b43a34929f_00018_of_00048.arrow\n",
      "Process #19 will write at /home/jovyan/.cache/huggingface/datasets/facebook___multilingual_librispeech/german/0.0.0/2e83e61823b4c47dcbcb1980bb88601274127609/cache-e02686b43a34929f_00019_of_00048.arrow\n",
      "Process #20 will write at /home/jovyan/.cache/huggingface/datasets/facebook___multilingual_librispeech/german/0.0.0/2e83e61823b4c47dcbcb1980bb88601274127609/cache-e02686b43a34929f_00020_of_00048.arrow\n",
      "Process #21 will write at /home/jovyan/.cache/huggingface/datasets/facebook___multilingual_librispeech/german/0.0.0/2e83e61823b4c47dcbcb1980bb88601274127609/cache-e02686b43a34929f_00021_of_00048.arrow\n",
      "Process #22 will write at /home/jovyan/.cache/huggingface/datasets/facebook___multilingual_librispeech/german/0.0.0/2e83e61823b4c47dcbcb1980bb88601274127609/cache-e02686b43a34929f_00022_of_00048.arrow\n",
      "Process #23 will write at /home/jovyan/.cache/huggingface/datasets/facebook___multilingual_librispeech/german/0.0.0/2e83e61823b4c47dcbcb1980bb88601274127609/cache-e02686b43a34929f_00023_of_00048.arrow\n",
      "Process #24 will write at /home/jovyan/.cache/huggingface/datasets/facebook___multilingual_librispeech/german/0.0.0/2e83e61823b4c47dcbcb1980bb88601274127609/cache-e02686b43a34929f_00024_of_00048.arrow\n",
      "Process #25 will write at /home/jovyan/.cache/huggingface/datasets/facebook___multilingual_librispeech/german/0.0.0/2e83e61823b4c47dcbcb1980bb88601274127609/cache-e02686b43a34929f_00025_of_00048.arrow\n",
      "Process #26 will write at /home/jovyan/.cache/huggingface/datasets/facebook___multilingual_librispeech/german/0.0.0/2e83e61823b4c47dcbcb1980bb88601274127609/cache-e02686b43a34929f_00026_of_00048.arrow\n",
      "Process #27 will write at /home/jovyan/.cache/huggingface/datasets/facebook___multilingual_librispeech/german/0.0.0/2e83e61823b4c47dcbcb1980bb88601274127609/cache-e02686b43a34929f_00027_of_00048.arrow\n",
      "Process #28 will write at /home/jovyan/.cache/huggingface/datasets/facebook___multilingual_librispeech/german/0.0.0/2e83e61823b4c47dcbcb1980bb88601274127609/cache-e02686b43a34929f_00028_of_00048.arrow\n",
      "Process #29 will write at /home/jovyan/.cache/huggingface/datasets/facebook___multilingual_librispeech/german/0.0.0/2e83e61823b4c47dcbcb1980bb88601274127609/cache-e02686b43a34929f_00029_of_00048.arrow\n",
      "Process #30 will write at /home/jovyan/.cache/huggingface/datasets/facebook___multilingual_librispeech/german/0.0.0/2e83e61823b4c47dcbcb1980bb88601274127609/cache-e02686b43a34929f_00030_of_00048.arrow\n",
      "Process #31 will write at /home/jovyan/.cache/huggingface/datasets/facebook___multilingual_librispeech/german/0.0.0/2e83e61823b4c47dcbcb1980bb88601274127609/cache-e02686b43a34929f_00031_of_00048.arrow\n",
      "Process #32 will write at /home/jovyan/.cache/huggingface/datasets/facebook___multilingual_librispeech/german/0.0.0/2e83e61823b4c47dcbcb1980bb88601274127609/cache-e02686b43a34929f_00032_of_00048.arrow\n",
      "Process #33 will write at /home/jovyan/.cache/huggingface/datasets/facebook___multilingual_librispeech/german/0.0.0/2e83e61823b4c47dcbcb1980bb88601274127609/cache-e02686b43a34929f_00033_of_00048.arrow\n",
      "Process #34 will write at /home/jovyan/.cache/huggingface/datasets/facebook___multilingual_librispeech/german/0.0.0/2e83e61823b4c47dcbcb1980bb88601274127609/cache-e02686b43a34929f_00034_of_00048.arrow\n",
      "Process #35 will write at /home/jovyan/.cache/huggingface/datasets/facebook___multilingual_librispeech/german/0.0.0/2e83e61823b4c47dcbcb1980bb88601274127609/cache-e02686b43a34929f_00035_of_00048.arrow\n",
      "Process #36 will write at /home/jovyan/.cache/huggingface/datasets/facebook___multilingual_librispeech/german/0.0.0/2e83e61823b4c47dcbcb1980bb88601274127609/cache-e02686b43a34929f_00036_of_00048.arrow\n",
      "Process #37 will write at /home/jovyan/.cache/huggingface/datasets/facebook___multilingual_librispeech/german/0.0.0/2e83e61823b4c47dcbcb1980bb88601274127609/cache-e02686b43a34929f_00037_of_00048.arrow\n",
      "Process #38 will write at /home/jovyan/.cache/huggingface/datasets/facebook___multilingual_librispeech/german/0.0.0/2e83e61823b4c47dcbcb1980bb88601274127609/cache-e02686b43a34929f_00038_of_00048.arrow\n",
      "Process #39 will write at /home/jovyan/.cache/huggingface/datasets/facebook___multilingual_librispeech/german/0.0.0/2e83e61823b4c47dcbcb1980bb88601274127609/cache-e02686b43a34929f_00039_of_00048.arrow\n",
      "Process #40 will write at /home/jovyan/.cache/huggingface/datasets/facebook___multilingual_librispeech/german/0.0.0/2e83e61823b4c47dcbcb1980bb88601274127609/cache-e02686b43a34929f_00040_of_00048.arrow\n",
      "Process #41 will write at /home/jovyan/.cache/huggingface/datasets/facebook___multilingual_librispeech/german/0.0.0/2e83e61823b4c47dcbcb1980bb88601274127609/cache-e02686b43a34929f_00041_of_00048.arrow\n",
      "Process #42 will write at /home/jovyan/.cache/huggingface/datasets/facebook___multilingual_librispeech/german/0.0.0/2e83e61823b4c47dcbcb1980bb88601274127609/cache-e02686b43a34929f_00042_of_00048.arrow\n",
      "Process #43 will write at /home/jovyan/.cache/huggingface/datasets/facebook___multilingual_librispeech/german/0.0.0/2e83e61823b4c47dcbcb1980bb88601274127609/cache-e02686b43a34929f_00043_of_00048.arrow\n",
      "Process #44 will write at /home/jovyan/.cache/huggingface/datasets/facebook___multilingual_librispeech/german/0.0.0/2e83e61823b4c47dcbcb1980bb88601274127609/cache-e02686b43a34929f_00044_of_00048.arrow\n",
      "Process #45 will write at /home/jovyan/.cache/huggingface/datasets/facebook___multilingual_librispeech/german/0.0.0/2e83e61823b4c47dcbcb1980bb88601274127609/cache-e02686b43a34929f_00045_of_00048.arrow\n",
      "Process #46 will write at /home/jovyan/.cache/huggingface/datasets/facebook___multilingual_librispeech/german/0.0.0/2e83e61823b4c47dcbcb1980bb88601274127609/cache-e02686b43a34929f_00046_of_00048.arrow\n",
      "Process #47 will write at /home/jovyan/.cache/huggingface/datasets/facebook___multilingual_librispeech/german/0.0.0/2e83e61823b4c47dcbcb1980bb88601274127609/cache-e02686b43a34929f_00047_of_00048.arrow\n",
      "Spawning 48 processes\n",
      "Map (num_proc=48):   0%|          | 0/469942 [00:00<?, ? examples/s]Caching processed dataset at /home/jovyan/.cache/huggingface/datasets/facebook___multilingual_librispeech/german/0.0.0/2e83e61823b4c47dcbcb1980bb88601274127609/cache-e02686b43a34929f_00012_of_00048.arrow\n",
      "Caching processed dataset at /home/jovyan/.cache/huggingface/datasets/facebook___multilingual_librispeech/german/0.0.0/2e83e61823b4c47dcbcb1980bb88601274127609/cache-e02686b43a34929f_00019_of_00048.arrow\n",
      "Caching processed dataset at /home/jovyan/.cache/huggingface/datasets/facebook___multilingual_librispeech/german/0.0.0/2e83e61823b4c47dcbcb1980bb88601274127609/cache-e02686b43a34929f_00004_of_00048.arrow\n",
      "Map (num_proc=48):   0%|          | 1/469942 [00:12<1675:44:57, 12.84s/ examples]Caching processed dataset at /home/jovyan/.cache/huggingface/datasets/facebook___multilingual_librispeech/german/0.0.0/2e83e61823b4c47dcbcb1980bb88601274127609/cache-e02686b43a34929f_00021_of_00048.arrow\n",
      "Caching processed dataset at /home/jovyan/.cache/huggingface/datasets/facebook___multilingual_librispeech/german/0.0.0/2e83e61823b4c47dcbcb1980bb88601274127609/cache-e02686b43a34929f_00025_of_00048.arrow\n",
      "Caching processed dataset at /home/jovyan/.cache/huggingface/datasets/facebook___multilingual_librispeech/german/0.0.0/2e83e61823b4c47dcbcb1980bb88601274127609/cache-e02686b43a34929f_00018_of_00048.arrow\n",
      "Caching processed dataset at /home/jovyan/.cache/huggingface/datasets/facebook___multilingual_librispeech/german/0.0.0/2e83e61823b4c47dcbcb1980bb88601274127609/cache-e02686b43a34929f_00001_of_00048.arrow\n",
      "Caching processed dataset at /home/jovyan/.cache/huggingface/datasets/facebook___multilingual_librispeech/german/0.0.0/2e83e61823b4c47dcbcb1980bb88601274127609/cache-e02686b43a34929f_00006_of_00048.arrow\n",
      "Caching processed dataset at /home/jovyan/.cache/huggingface/datasets/facebook___multilingual_librispeech/german/0.0.0/2e83e61823b4c47dcbcb1980bb88601274127609/cache-e02686b43a34929f_00013_of_00048.arrow\n",
      "Caching processed dataset at /home/jovyan/.cache/huggingface/datasets/facebook___multilingual_librispeech/german/0.0.0/2e83e61823b4c47dcbcb1980bb88601274127609/cache-e02686b43a34929f_00022_of_00048.arrow\n",
      "Caching processed dataset at /home/jovyan/.cache/huggingface/datasets/facebook___multilingual_librispeech/german/0.0.0/2e83e61823b4c47dcbcb1980bb88601274127609/cache-e02686b43a34929f_00028_of_00048.arrow\n",
      "Caching processed dataset at /home/jovyan/.cache/huggingface/datasets/facebook___multilingual_librispeech/german/0.0.0/2e83e61823b4c47dcbcb1980bb88601274127609/cache-e02686b43a34929f_00029_of_00048.arrow\n",
      "Caching processed dataset at /home/jovyan/.cache/huggingface/datasets/facebook___multilingual_librispeech/german/0.0.0/2e83e61823b4c47dcbcb1980bb88601274127609/cache-e02686b43a34929f_00032_of_00048.arrow\n",
      "Caching processed dataset at /home/jovyan/.cache/huggingface/datasets/facebook___multilingual_librispeech/german/0.0.0/2e83e61823b4c47dcbcb1980bb88601274127609/cache-e02686b43a34929f_00014_of_00048.arrow\n",
      "Caching processed dataset at /home/jovyan/.cache/huggingface/datasets/facebook___multilingual_librispeech/german/0.0.0/2e83e61823b4c47dcbcb1980bb88601274127609/cache-e02686b43a34929f_00039_of_00048.arrow\n",
      "Caching processed dataset at /home/jovyan/.cache/huggingface/datasets/facebook___multilingual_librispeech/german/0.0.0/2e83e61823b4c47dcbcb1980bb88601274127609/cache-e02686b43a34929f_00037_of_00048.arrow\n",
      "Caching processed dataset at /home/jovyan/.cache/huggingface/datasets/facebook___multilingual_librispeech/german/0.0.0/2e83e61823b4c47dcbcb1980bb88601274127609/cache-e02686b43a34929f_00033_of_00048.arrow\n",
      "Caching processed dataset at /home/jovyan/.cache/huggingface/datasets/facebook___multilingual_librispeech/german/0.0.0/2e83e61823b4c47dcbcb1980bb88601274127609/cache-e02686b43a34929f_00030_of_00048.arrow\n",
      "Caching processed dataset at /home/jovyan/.cache/huggingface/datasets/facebook___multilingual_librispeech/german/0.0.0/2e83e61823b4c47dcbcb1980bb88601274127609/cache-e02686b43a34929f_00017_of_00048.arrow\n",
      "Caching processed dataset at /home/jovyan/.cache/huggingface/datasets/facebook___multilingual_librispeech/german/0.0.0/2e83e61823b4c47dcbcb1980bb88601274127609/cache-e02686b43a34929f_00043_of_00048.arrow\n",
      "Caching processed dataset at /home/jovyan/.cache/huggingface/datasets/facebook___multilingual_librispeech/german/0.0.0/2e83e61823b4c47dcbcb1980bb88601274127609/cache-e02686b43a34929f_00035_of_00048.arrow\n",
      "Caching processed dataset at /home/jovyan/.cache/huggingface/datasets/facebook___multilingual_librispeech/german/0.0.0/2e83e61823b4c47dcbcb1980bb88601274127609/cache-e02686b43a34929f_00009_of_00048.arrow\n",
      "Caching processed dataset at /home/jovyan/.cache/huggingface/datasets/facebook___multilingual_librispeech/german/0.0.0/2e83e61823b4c47dcbcb1980bb88601274127609/cache-e02686b43a34929f_00038_of_00048.arrow\n",
      "Caching processed dataset at /home/jovyan/.cache/huggingface/datasets/facebook___multilingual_librispeech/german/0.0.0/2e83e61823b4c47dcbcb1980bb88601274127609/cache-e02686b43a34929f_00005_of_00048.arrow\n",
      "Caching processed dataset at /home/jovyan/.cache/huggingface/datasets/facebook___multilingual_librispeech/german/0.0.0/2e83e61823b4c47dcbcb1980bb88601274127609/cache-e02686b43a34929f_00026_of_00048.arrow\n",
      "Caching processed dataset at /home/jovyan/.cache/huggingface/datasets/facebook___multilingual_librispeech/german/0.0.0/2e83e61823b4c47dcbcb1980bb88601274127609/cache-e02686b43a34929f_00045_of_00048.arrow\n",
      "Caching processed dataset at /home/jovyan/.cache/huggingface/datasets/facebook___multilingual_librispeech/german/0.0.0/2e83e61823b4c47dcbcb1980bb88601274127609/cache-e02686b43a34929f_00046_of_00048.arrow\n",
      "Caching processed dataset at /home/jovyan/.cache/huggingface/datasets/facebook___multilingual_librispeech/german/0.0.0/2e83e61823b4c47dcbcb1980bb88601274127609/cache-e02686b43a34929f_00036_of_00048.arrow\n",
      "Caching processed dataset at /home/jovyan/.cache/huggingface/datasets/facebook___multilingual_librispeech/german/0.0.0/2e83e61823b4c47dcbcb1980bb88601274127609/cache-e02686b43a34929f_00002_of_00048.arrow\n",
      "Caching processed dataset at /home/jovyan/.cache/huggingface/datasets/facebook___multilingual_librispeech/german/0.0.0/2e83e61823b4c47dcbcb1980bb88601274127609/cache-e02686b43a34929f_00044_of_00048.arrow\n",
      "Caching processed dataset at /home/jovyan/.cache/huggingface/datasets/facebook___multilingual_librispeech/german/0.0.0/2e83e61823b4c47dcbcb1980bb88601274127609/cache-e02686b43a34929f_00041_of_00048.arrow\n",
      "Caching processed dataset at /home/jovyan/.cache/huggingface/datasets/facebook___multilingual_librispeech/german/0.0.0/2e83e61823b4c47dcbcb1980bb88601274127609/cache-e02686b43a34929f_00000_of_00048.arrow\n",
      "Caching processed dataset at /home/jovyan/.cache/huggingface/datasets/facebook___multilingual_librispeech/german/0.0.0/2e83e61823b4c47dcbcb1980bb88601274127609/cache-e02686b43a34929f_00003_of_00048.arrow\n",
      "Caching processed dataset at /home/jovyan/.cache/huggingface/datasets/facebook___multilingual_librispeech/german/0.0.0/2e83e61823b4c47dcbcb1980bb88601274127609/cache-e02686b43a34929f_00015_of_00048.arrow\n",
      "Caching processed dataset at /home/jovyan/.cache/huggingface/datasets/facebook___multilingual_librispeech/german/0.0.0/2e83e61823b4c47dcbcb1980bb88601274127609/cache-e02686b43a34929f_00040_of_00048.arrow\n",
      "Caching processed dataset at /home/jovyan/.cache/huggingface/datasets/facebook___multilingual_librispeech/german/0.0.0/2e83e61823b4c47dcbcb1980bb88601274127609/cache-e02686b43a34929f_00011_of_00048.arrow\n",
      "Caching processed dataset at /home/jovyan/.cache/huggingface/datasets/facebook___multilingual_librispeech/german/0.0.0/2e83e61823b4c47dcbcb1980bb88601274127609/cache-e02686b43a34929f_00034_of_00048.arrow\n",
      "Caching processed dataset at /home/jovyan/.cache/huggingface/datasets/facebook___multilingual_librispeech/german/0.0.0/2e83e61823b4c47dcbcb1980bb88601274127609/cache-e02686b43a34929f_00016_of_00048.arrow\n",
      "Caching processed dataset at /home/jovyan/.cache/huggingface/datasets/facebook___multilingual_librispeech/german/0.0.0/2e83e61823b4c47dcbcb1980bb88601274127609/cache-e02686b43a34929f_00027_of_00048.arrow\n",
      "Caching processed dataset at /home/jovyan/.cache/huggingface/datasets/facebook___multilingual_librispeech/german/0.0.0/2e83e61823b4c47dcbcb1980bb88601274127609/cache-e02686b43a34929f_00024_of_00048.arrow\n",
      "Caching processed dataset at /home/jovyan/.cache/huggingface/datasets/facebook___multilingual_librispeech/german/0.0.0/2e83e61823b4c47dcbcb1980bb88601274127609/cache-e02686b43a34929f_00031_of_00048.arrow\n",
      "Caching processed dataset at /home/jovyan/.cache/huggingface/datasets/facebook___multilingual_librispeech/german/0.0.0/2e83e61823b4c47dcbcb1980bb88601274127609/cache-e02686b43a34929f_00042_of_00048.arrow\n",
      "Caching processed dataset at /home/jovyan/.cache/huggingface/datasets/facebook___multilingual_librispeech/german/0.0.0/2e83e61823b4c47dcbcb1980bb88601274127609/cache-e02686b43a34929f_00023_of_00048.arrow\n",
      "Caching processed dataset at /home/jovyan/.cache/huggingface/datasets/facebook___multilingual_librispeech/german/0.0.0/2e83e61823b4c47dcbcb1980bb88601274127609/cache-e02686b43a34929f_00008_of_00048.arrow\n",
      "Caching processed dataset at /home/jovyan/.cache/huggingface/datasets/facebook___multilingual_librispeech/german/0.0.0/2e83e61823b4c47dcbcb1980bb88601274127609/cache-e02686b43a34929f_00047_of_00048.arrow\n",
      "Caching processed dataset at /home/jovyan/.cache/huggingface/datasets/facebook___multilingual_librispeech/german/0.0.0/2e83e61823b4c47dcbcb1980bb88601274127609/cache-e02686b43a34929f_00020_of_00048.arrow\n",
      "Caching processed dataset at /home/jovyan/.cache/huggingface/datasets/facebook___multilingual_librispeech/german/0.0.0/2e83e61823b4c47dcbcb1980bb88601274127609/cache-e02686b43a34929f_00007_of_00048.arrow\n",
      "Caching processed dataset at /home/jovyan/.cache/huggingface/datasets/facebook___multilingual_librispeech/german/0.0.0/2e83e61823b4c47dcbcb1980bb88601274127609/cache-e02686b43a34929f_00010_of_00048.arrow\n",
      "Map (num_proc=48):  10%|█         | 47324/469942 [01:16<11:18, 622.61 examples/s]\n"
     ]
    },
    {
     "ename": "RuntimeError",
     "evalue": "One of the subprocesses has abruptly died during map operation.To debug the error, disable multiprocessing.",
     "output_type": "error",
     "traceback": [
      "\u001b[31m---------------------------------------------------------------------------\u001b[39m",
      "\u001b[31mRuntimeError\u001b[39m                              Traceback (most recent call last)",
      "\u001b[36mCell\u001b[39m\u001b[36m \u001b[39m\u001b[32mIn[3]\u001b[39m\u001b[32m, line 33\u001b[39m\n\u001b[32m     30\u001b[39m     \u001b[38;5;28mprint\u001b[39m(\u001b[33mf\u001b[39m\u001b[33m\"\u001b[39m\u001b[33mMLS mapping saved to \u001b[39m\u001b[38;5;132;01m{\u001b[39;00mcsv_path\u001b[38;5;132;01m}\u001b[39;00m\u001b[33m\"\u001b[39m)\n\u001b[32m     31\u001b[39m     \u001b[38;5;28;01mreturn\u001b[39;00m df\n\u001b[32m---> \u001b[39m\u001b[32m33\u001b[39m \u001b[43mbuild_mls_csv_mapping\u001b[49m\u001b[43m(\u001b[49m\u001b[33;43m\"\u001b[39;49m\u001b[33;43m./data/mls_mapping_array.csv\u001b[39;49m\u001b[33;43m\"\u001b[39;49m\u001b[43m)\u001b[49m\n",
      "\u001b[36mCell\u001b[39m\u001b[36m \u001b[39m\u001b[32mIn[3]\u001b[39m\u001b[32m, line 25\u001b[39m, in \u001b[36mbuild_mls_csv_mapping\u001b[39m\u001b[34m(csv_path)\u001b[39m\n\u001b[32m     19\u001b[39m     \u001b[38;5;28;01mreturn\u001b[39;00m {\n\u001b[32m     20\u001b[39m         \u001b[33m\"\u001b[39m\u001b[33mid\u001b[39m\u001b[33m\"\u001b[39m: example[\u001b[33m\"\u001b[39m\u001b[33mid\u001b[39m\u001b[33m\"\u001b[39m],\n\u001b[32m     21\u001b[39m         \u001b[33m\"\u001b[39m\u001b[33maudio_path\u001b[39m\u001b[33m\"\u001b[39m: example[\u001b[33m\"\u001b[39m\u001b[33maudio\u001b[39m\u001b[33m\"\u001b[39m]\n\u001b[32m     22\u001b[39m     }\n\u001b[32m     24\u001b[39m \u001b[38;5;66;03m# Run in parallel (adjust num_proc to your CPU cores)\u001b[39;00m\n\u001b[32m---> \u001b[39m\u001b[32m25\u001b[39m mapped = \u001b[43mdataset\u001b[49m\u001b[43m.\u001b[49m\u001b[43mmap\u001b[49m\u001b[43m(\u001b[49m\u001b[43mextract_mapping\u001b[49m\u001b[43m,\u001b[49m\u001b[43m \u001b[49m\u001b[43mnum_proc\u001b[49m\u001b[43m=\u001b[49m\u001b[43mos\u001b[49m\u001b[43m.\u001b[49m\u001b[43mcpu_count\u001b[49m\u001b[43m(\u001b[49m\u001b[43m)\u001b[49m\u001b[43m,\u001b[49m\u001b[43m \u001b[49m\u001b[43mremove_columns\u001b[49m\u001b[43m=\u001b[49m\u001b[43mdataset\u001b[49m\u001b[43m.\u001b[49m\u001b[43mcolumn_names\u001b[49m\u001b[43m)\u001b[49m\n\u001b[32m     27\u001b[39m \u001b[38;5;66;03m# Save to CSV\u001b[39;00m\n\u001b[32m     28\u001b[39m df = pd.DataFrame(mapped)\n",
      "\u001b[36mFile \u001b[39m\u001b[32m~/.local/opt/conda/envs/ainmc/lib/python3.11/site-packages/datasets/arrow_dataset.py:557\u001b[39m, in \u001b[36mtransmit_format.<locals>.wrapper\u001b[39m\u001b[34m(*args, **kwargs)\u001b[39m\n\u001b[32m    550\u001b[39m self_format = {\n\u001b[32m    551\u001b[39m     \u001b[33m\"\u001b[39m\u001b[33mtype\u001b[39m\u001b[33m\"\u001b[39m: \u001b[38;5;28mself\u001b[39m._format_type,\n\u001b[32m    552\u001b[39m     \u001b[33m\"\u001b[39m\u001b[33mformat_kwargs\u001b[39m\u001b[33m\"\u001b[39m: \u001b[38;5;28mself\u001b[39m._format_kwargs,\n\u001b[32m    553\u001b[39m     \u001b[33m\"\u001b[39m\u001b[33mcolumns\u001b[39m\u001b[33m\"\u001b[39m: \u001b[38;5;28mself\u001b[39m._format_columns,\n\u001b[32m    554\u001b[39m     \u001b[33m\"\u001b[39m\u001b[33moutput_all_columns\u001b[39m\u001b[33m\"\u001b[39m: \u001b[38;5;28mself\u001b[39m._output_all_columns,\n\u001b[32m    555\u001b[39m }\n\u001b[32m    556\u001b[39m \u001b[38;5;66;03m# apply actual function\u001b[39;00m\n\u001b[32m--> \u001b[39m\u001b[32m557\u001b[39m out: Union[\u001b[33m\"\u001b[39m\u001b[33mDataset\u001b[39m\u001b[33m\"\u001b[39m, \u001b[33m\"\u001b[39m\u001b[33mDatasetDict\u001b[39m\u001b[33m\"\u001b[39m] = \u001b[43mfunc\u001b[49m\u001b[43m(\u001b[49m\u001b[38;5;28;43mself\u001b[39;49m\u001b[43m,\u001b[49m\u001b[43m \u001b[49m\u001b[43m*\u001b[49m\u001b[43margs\u001b[49m\u001b[43m,\u001b[49m\u001b[43m \u001b[49m\u001b[43m*\u001b[49m\u001b[43m*\u001b[49m\u001b[43mkwargs\u001b[49m\u001b[43m)\u001b[49m\n\u001b[32m    558\u001b[39m datasets: \u001b[38;5;28mlist\u001b[39m[\u001b[33m\"\u001b[39m\u001b[33mDataset\u001b[39m\u001b[33m\"\u001b[39m] = \u001b[38;5;28mlist\u001b[39m(out.values()) \u001b[38;5;28;01mif\u001b[39;00m \u001b[38;5;28misinstance\u001b[39m(out, \u001b[38;5;28mdict\u001b[39m) \u001b[38;5;28;01melse\u001b[39;00m [out]\n\u001b[32m    559\u001b[39m \u001b[38;5;66;03m# re-apply format to the output\u001b[39;00m\n",
      "\u001b[36mFile \u001b[39m\u001b[32m~/.local/opt/conda/envs/ainmc/lib/python3.11/site-packages/datasets/arrow_dataset.py:3171\u001b[39m, in \u001b[36mDataset.map\u001b[39m\u001b[34m(self, function, with_indices, with_rank, input_columns, batched, batch_size, drop_last_batch, remove_columns, keep_in_memory, load_from_cache_file, cache_file_name, writer_batch_size, features, disable_nullable, fn_kwargs, num_proc, suffix_template, new_fingerprint, desc, try_original_type)\u001b[39m\n\u001b[32m   3165\u001b[39m logger.info(\u001b[33mf\u001b[39m\u001b[33m\"\u001b[39m\u001b[33mSpawning \u001b[39m\u001b[38;5;132;01m{\u001b[39;00mnum_proc\u001b[38;5;132;01m}\u001b[39;00m\u001b[33m processes\u001b[39m\u001b[33m\"\u001b[39m)\n\u001b[32m   3166\u001b[39m \u001b[38;5;28;01mwith\u001b[39;00m hf_tqdm(\n\u001b[32m   3167\u001b[39m     unit=\u001b[33m\"\u001b[39m\u001b[33m examples\u001b[39m\u001b[33m\"\u001b[39m,\n\u001b[32m   3168\u001b[39m     total=pbar_total,\n\u001b[32m   3169\u001b[39m     desc=(desc \u001b[38;5;129;01mor\u001b[39;00m \u001b[33m\"\u001b[39m\u001b[33mMap\u001b[39m\u001b[33m\"\u001b[39m) + \u001b[33mf\u001b[39m\u001b[33m\"\u001b[39m\u001b[33m (num_proc=\u001b[39m\u001b[38;5;132;01m{\u001b[39;00mnum_proc\u001b[38;5;132;01m}\u001b[39;00m\u001b[33m)\u001b[39m\u001b[33m\"\u001b[39m,\n\u001b[32m   3170\u001b[39m ) \u001b[38;5;28;01mas\u001b[39;00m pbar:\n\u001b[32m-> \u001b[39m\u001b[32m3171\u001b[39m \u001b[43m    \u001b[49m\u001b[38;5;28;43;01mfor\u001b[39;49;00m\u001b[43m \u001b[49m\u001b[43mrank\u001b[49m\u001b[43m,\u001b[49m\u001b[43m \u001b[49m\u001b[43mdone\u001b[49m\u001b[43m,\u001b[49m\u001b[43m \u001b[49m\u001b[43mcontent\u001b[49m\u001b[43m \u001b[49m\u001b[38;5;129;43;01min\u001b[39;49;00m\u001b[43m \u001b[49m\u001b[43miflatmap_unordered\u001b[49m\u001b[43m(\u001b[49m\n\u001b[32m   3172\u001b[39m \u001b[43m        \u001b[49m\u001b[43mpool\u001b[49m\u001b[43m,\u001b[49m\u001b[43m \u001b[49m\u001b[43mDataset\u001b[49m\u001b[43m.\u001b[49m\u001b[43m_map_single\u001b[49m\u001b[43m,\u001b[49m\u001b[43m \u001b[49m\u001b[43mkwargs_iterable\u001b[49m\u001b[43m=\u001b[49m\u001b[43mkwargs_per_job\u001b[49m\n\u001b[32m   3173\u001b[39m \u001b[43m    \u001b[49m\u001b[43m)\u001b[49m\u001b[43m:\u001b[49m\n\u001b[32m   3174\u001b[39m \u001b[43m        \u001b[49m\u001b[38;5;28;43;01mif\u001b[39;49;00m\u001b[43m \u001b[49m\u001b[43mdone\u001b[49m\u001b[43m:\u001b[49m\n\u001b[32m   3175\u001b[39m \u001b[43m            \u001b[49m\u001b[43mshards_done\u001b[49m\u001b[43m \u001b[49m\u001b[43m+\u001b[49m\u001b[43m=\u001b[49m\u001b[43m \u001b[49m\u001b[32;43m1\u001b[39;49m\n",
      "\u001b[36mFile \u001b[39m\u001b[32m~/.local/opt/conda/envs/ainmc/lib/python3.11/site-packages/datasets/utils/py_utils.py:721\u001b[39m, in \u001b[36miflatmap_unordered\u001b[39m\u001b[34m(pool, func, kwargs_iterable)\u001b[39m\n\u001b[32m    719\u001b[39m             pool_changed = \u001b[38;5;28;01mTrue\u001b[39;00m\n\u001b[32m    720\u001b[39m             \u001b[38;5;66;03m# One of the subprocesses has died. We should not wait forever.\u001b[39;00m\n\u001b[32m--> \u001b[39m\u001b[32m721\u001b[39m             \u001b[38;5;28;01mraise\u001b[39;00m \u001b[38;5;167;01mRuntimeError\u001b[39;00m(\n\u001b[32m    722\u001b[39m                 \u001b[33m\"\u001b[39m\u001b[33mOne of the subprocesses has abruptly died during map operation.\u001b[39m\u001b[33m\"\u001b[39m\n\u001b[32m    723\u001b[39m                 \u001b[33m\"\u001b[39m\u001b[33mTo debug the error, disable multiprocessing.\u001b[39m\u001b[33m\"\u001b[39m\n\u001b[32m    724\u001b[39m             )\n\u001b[32m    725\u001b[39m \u001b[38;5;28;01mfinally\u001b[39;00m:\n\u001b[32m    726\u001b[39m     \u001b[38;5;28;01mif\u001b[39;00m \u001b[38;5;129;01mnot\u001b[39;00m pool_changed:\n\u001b[32m    727\u001b[39m         \u001b[38;5;66;03m# we get the result in case there's an error to raise\u001b[39;00m\n",
      "\u001b[31mRuntimeError\u001b[39m: One of the subprocesses has abruptly died during map operation.To debug the error, disable multiprocessing."
     ]
    }
   ],
   "source": [
    "from datasets import load_dataset, Audio\n",
    "import pandas as pd\n",
    "import os\n",
    "import logging\n",
    "from datasets.utils.logging import set_verbosity_info\n",
    "set_verbosity_info()   # makes map log progress\n",
    "\n",
    "logging.getLogger(\"datasets\").setLevel(logging.INFO)\n",
    "\n",
    "def build_mls_csv_mapping(csv_path):\n",
    "    dataset = load_dataset(\n",
    "        \"facebook/multilingual_librispeech\",\n",
    "        \"german\",\n",
    "        split=\"train\"\n",
    "    )\n",
    "    #dataset = dataset.cast_column(\"audio\", Audio(decode=False))  # just get paths\n",
    "    #print(dataset[0]['audio'])\n",
    "    def extract_mapping(example):\n",
    "        return {\n",
    "            \"id\": example[\"id\"],\n",
    "            \"audio_path\": example[\"audio\"]\n",
    "        }\n",
    "\n",
    "    # Run in parallel (adjust num_proc to your CPU cores)\n",
    "    mapped = dataset.map(extract_mapping, num_proc=os.cpu_count(), remove_columns=dataset.column_names)\n",
    "\n",
    "    # Save to CSV\n",
    "    df = pd.DataFrame(mapped)\n",
    "    df.to_csv(csv_path, index=True)\n",
    "    print(f\"MLS mapping saved to {csv_path}\")\n",
    "    return df\n",
    "\n",
    "build_mls_csv_mapping(\"./data/mls_mapping_array.csv\")"
   ]
  },
  {
   "cell_type": "code",
   "execution_count": null,
   "id": "e519e375-6250-400a-81a2-e1e7316d2ff9",
   "metadata": {},
   "outputs": [],
   "source": []
  }
 ],
 "metadata": {
  "kernelspec": {
   "display_name": "Python [conda env:conda-ainmc]",
   "language": "python",
   "name": "conda-env-conda-ainmc-py"
  },
  "language_info": {
   "codemirror_mode": {
    "name": "ipython",
    "version": 3
   },
   "file_extension": ".py",
   "mimetype": "text/x-python",
   "name": "python",
   "nbconvert_exporter": "python",
   "pygments_lexer": "ipython3",
   "version": "3.11.13"
  }
 },
 "nbformat": 4,
 "nbformat_minor": 5
}
